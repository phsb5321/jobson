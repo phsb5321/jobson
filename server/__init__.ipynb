{
 "cells": [
  {
   "cell_type": "code",
   "execution_count": 4,
   "metadata": {},
   "outputs": [],
   "source": [
    "# Constants\n",
    "API_KEY = \"API_KEY\"\n",
    "BASE_URL = \"https://serpapi.com/search.json\""
   ]
  },
  {
   "cell_type": "code",
   "execution_count": 6,
   "metadata": {},
   "outputs": [],
   "source": [
    "import requests"
   ]
  },
  {
   "cell_type": "code",
   "execution_count": 7,
   "metadata": {},
   "outputs": [],
   "source": [
    "def get_job_data(query, location, api_key=API_KEY):\n",
    "    params = {\n",
    "        'engine': 'google_jobs',\n",
    "        'q': query,\n",
    "        'location': location,\n",
    "        'api_key': api_key\n",
    "    }\n",
    "    response = requests.get(BASE_URL, params=params)\n",
    "    if response.status_code == 200:\n",
    "        return response.json()\n",
    "    else:\n",
    "        return None\n"
   ]
  },
  {
   "cell_type": "code",
   "execution_count": 8,
   "metadata": {},
   "outputs": [],
   "source": [
    "# Example search\n",
    "search_query = \"Software Engineer\"  # Replace with your desired job title\n",
    "search_location = \"San Francisco, CA\"  # Replace with your desired location\n",
    "\n",
    "# Get data\n",
    "job_data = get_job_data(search_query, search_location)"
   ]
  },
  {
   "cell_type": "code",
   "execution_count": 9,
   "metadata": {},
   "outputs": [
    {
     "data": {
      "text/plain": [
       "[{'title': 'Software Engineer -SE0282',\n",
       "  'company_name': 'Urban Air Adventure Parks',\n",
       "  'location': '  St. Petersburg, FL   ',\n",
       "  'via': 'via ZipRecruiter',\n",
       "  'description': 'Urban Air Adventure Parks Agency is looking for a passionate, experienced Software Engineer who thrives in a highly collaborative, team environment.\\n\\nJoin our team of professionals with deep knowledge industry expertise, specialized technology knowledge, and a desire to do good for our clients, our communities, and our people...\\n\\nWhat is the role?\\n\\nYou would be a key member of our Information Technology Team, solving complex and unique business challenges with cloud native architectures in a collaborative agile environment. Join a new team at the ground level that is focused on supporting our state-of-the-art deposit sweep business. This is an opportunity to work with top IT talent in a fast-paced, entrepreneurial environment where automation and technical craftsmanship are a top priority.\\n\\nYour responsibilities will include:\\n• Working with and across multiple Agile teams to oversee design, development, testing, deployment, and support of technology solutions.\\n• Participate in code reviews and requirements analysis\\n• Collaborate with internal teams to produce software design and architecture\\n• Write clean, scalable code using programming languages\\n• Test and deploy applications and systems\\n• Build applications to leverage cloud platform services for maximum impact\\n• Revise, update, refactor and debug code\\n• Develop documentation throughout the software development life cycle (SDLC)\\n• Serve as an expert on applications and provide technical support\\n• Practice a “you build it, you own it” discipline to application development\\n\\nYou should possess the following experience, skills, and qualifications:\\n• Computer Science or related field.\\n• Proven experience as a .NET Developer\\n• Experience with ASP.NET Core, design/architectural patterns (e.g. Model-View-Controller (MVC))\\n• Knowledge of at least one of the .NET languages (e.g. C#, Visual Basic .NET)\\n• Experience with front end development using HTML5/CSS3, JavaScript Libraries - jQuery\\n• Experience in database design and development (Microsoft SQL Server)Experience working with relational databases in cloud environments.\\n• Experience with concurrent development source control (Git)\\n• Understanding of containerized applications is a plus\\n• Understanding of Agile methodologies\\n• Excellent troubleshooting and communication skills\\n• Attention to detail\\n• Interest in delivering high impact business solutions enabling internal clients to improve performance\\n• Must have excellent problem-solving skills and the ability to multi-task within tight deadlines; self-directed, and results/goal oriented.\\n• Must have the drive to investigate new technologies and the ability to articulate concepts and designs.\\n\\nUrban Air Adventure Parks is an Equal Opportunity Employer and does not discriminate on the basis of race, color, national origin, sex, religion, age, veteran status, disability, or sexual orientation in employment of the provision of services.\\n\\nPay: $125,000.00 - $135,000.00 per year\\n\\nJob Type: Full-time\\n\\nBenefits:\\n• 401(k)\\n• 401(k) matching\\n• Dental insurance\\n• Flexible schedule\\n• Flexible spending account\\n• Health insurance\\n• Health savings account\\n• Life insurance\\n• Paid time off\\n• Vision insurance\\n• Must be us citizen\\n• Must ready to start within one month\\n• No any type of visa sponsorship\\n\\nCompensation package:\\n• Bonus pay\\n• Performance bonus\\n• Yearly bonus\\n• Yearly pay\\n\\nExperience level:\\n• 3 years\\n\\nSchedule:\\n• Monday to Friday',\n",
       "  'job_highlights': [{'title': 'Qualifications',\n",
       "    'items': ['Computer Science or related field',\n",
       "     'Proven experience as a .NET Developer',\n",
       "     'Experience with ASP',\n",
       "     'NET Core, design/architectural patterns (e.g. Model-View-Controller (MVC))',\n",
       "     'Knowledge of at least one of the .NET languages (e.g. C#, Visual Basic .NET)',\n",
       "     'Experience with front end development using HTML5/CSS3, JavaScript Libraries - jQuery',\n",
       "     'Experience in database design and development (Microsoft SQL Server)Experience working with relational databases in cloud environments',\n",
       "     'Experience with concurrent development source control (Git)',\n",
       "     'Excellent troubleshooting and communication skills',\n",
       "     'Must have excellent problem-solving skills and the ability to multi-task within tight deadlines; self-directed, and results/goal oriented',\n",
       "     'Must have the drive to investigate new technologies and the ability to articulate concepts and designs',\n",
       "     'Must be us citizen',\n",
       "     'Must ready to start within one month',\n",
       "     '3 years']},\n",
       "   {'title': 'Responsibilities',\n",
       "    'items': ['You would be a key member of our Information Technology Team, solving complex and unique business challenges with cloud native architectures in a collaborative agile environment',\n",
       "     'Working with and across multiple Agile teams to oversee design, development, testing, deployment, and support of technology solutions',\n",
       "     'Participate in code reviews and requirements analysis',\n",
       "     'Collaborate with internal teams to produce software design and architecture',\n",
       "     'Write clean, scalable code using programming languages',\n",
       "     'Test and deploy applications and systems',\n",
       "     'Build applications to leverage cloud platform services for maximum impact',\n",
       "     'Revise, update, refactor and debug code',\n",
       "     'Develop documentation throughout the software development life cycle (SDLC)',\n",
       "     'Serve as an expert on applications and provide technical support',\n",
       "     'Practice a “you build it, you own it” discipline to application development']},\n",
       "   {'title': 'Benefits',\n",
       "    'items': ['Pay: $125,000.00 - $135,000.00 per year',\n",
       "     '401(k) matching',\n",
       "     'Dental insurance',\n",
       "     'Flexible schedule',\n",
       "     'Flexible spending account',\n",
       "     'Health insurance',\n",
       "     'Health savings account',\n",
       "     'Life insurance',\n",
       "     'Paid time off',\n",
       "     'Vision insurance',\n",
       "     'No any type of visa sponsorship',\n",
       "     'Compensation package:',\n",
       "     'Bonus pay',\n",
       "     'Performance bonus',\n",
       "     'Yearly bonus']}],\n",
       "  'related_links': [{'link': 'http://www.urbanair.com/',\n",
       "    'text': 'urbanair.com'},\n",
       "   {'link': 'https://www.google.com/search?sca_esv=f057219ff9d50998&sca_upv=1&q=Urban+Air+Adventure+Parks&sa=X&ved=0ahUKEwjnvKuygdOCAxXzQjABHUueBR0QmJACCNwJ',\n",
       "    'text': 'See web results for Urban Air Adventure Parks'}],\n",
       "  'extensions': ['5 days ago',\n",
       "   '125K–135K a year',\n",
       "   'Full-time',\n",
       "   'No degree mentioned',\n",
       "   'Health insurance',\n",
       "   'Dental insurance',\n",
       "   'Paid time off'],\n",
       "  'detected_extensions': {'posted_at': '5 days ago',\n",
       "   'schedule_type': 'Full-time',\n",
       "   'salary': '125K–135K a year'},\n",
       "  'job_id': 'eyJqb2JfdGl0bGUiOiJTb2Z0d2FyZSBFbmdpbmVlciAtU0UwMjgyIiwiaHRpZG9jaWQiOiI3M1RjZ1JQNEcxRUE0V3dPQUFBQUFBPT0iLCJ1dWxlIjoidytDQUlRSUNJRVUyRnVJRVp5WVc1amFYTmpieTFQWVd0c1lXNWtMVk5oYmlCS2IzTmxMRU5CTEVOaGJHbG1iM0p1YVdFc1ZXNXBkR1ZrSUZOMFlYUmxjdyIsImZjIjoiRXN3Q0Nvd0NRVXhQYm5CWlZqRkxNVFl4UWs5VlkwbExVVmh1V1VkYU16UlJhbkF3VTBwSmVXNWZPQzF1U0U5RE1HOWFOak5NVUdaWE56TXlhSGxuUnpKblQxOVdObUZqWkhWak9IZFdTbTlVV1d4RFZscERZMFpUUkUxT1VXZFVlbkJvWVhnd00zSlhSVVZMT1ROTFlVeHVjMWM1WjJaS1dqUnpVV3d6VkVoMGRVeDJaeTA0TmtKR1UyczJRbkZMZGxWcFlucDFUVXhKV2tSNVdrbE9aamwxTlVReVZuSklOMng2WlVSMmVrUjJhVFpvVFhoSlVqTTBZVGd3Vmxwc2MwVnFaREI2YlZOcWNXdDJlVU5aZERSck9XZHNURmcwT1VWRWVsY3RiVzVQZFVwRVNEUnpVR2xPYWpoSldGZGFWbWx0YUhGVmVUWndVbVUwTWtwSGVsRmtkMUpPVlhwZk1rdzBlVFpvWDJveWRCSVhRMWwwWWxwaFpWVkpYMDlHZDJKclVIazNlVmMyUVVVYUlrRktkMnN0T0dVNU0wSTNMVXgwWjBSWE9WOUpReloyVUVOVU9Vc3RTMDlyWkhjIiwiZmN2IjoiMyIsImZjX2lkIjoiZmNfMSIsImFwcGx5X2xpbmsiOnsidGl0bGUiOiIubkZnMmVie2ZvbnQtd2VpZ2h0OjUwMH0uQmk2RGRje2ZvbnQtd2VpZ2h0OjUwMH1BcHBseSBkaXJlY3RseSBvbiBaaXBSZWNydWl0ZXIiLCJsaW5rIjoiaHR0cHM6Ly93d3cuemlwcmVjcnVpdGVyLmNvbS9jL1VyYmFuLUFpci1BZHZlbnR1cmUtUGFya3MvSm9iL1NvZnR3YXJlLUVuZ2luZWVyLVNFMDI4Mi8taW4tU2FpbnQtUGV0ZXJzYnVyZyxGTD9qaWQ9MWZiMTFhNjVkZWU0ZmJhNlx1MDAyNnV0bV9jYW1wYWlnbj1nb29nbGVfam9ic19hcHBseVx1MDAyNnV0bV9zb3VyY2U9Z29vZ2xlX2pvYnNfYXBwbHlcdTAwMjZ1dG1fbWVkaXVtPW9yZ2FuaWMifX0='},\n",
       " {'title': 'Sr Software Engineer – Edge Platform - REMOTE',\n",
       "  'company_name': 'Publix',\n",
       "  'location': '  Lakeland, FL   ',\n",
       "  'via': 'via Publix Jobs And Careers',\n",
       "  'description': 'Publix is able to offer virtual/remote employment for this position in the following states: FL, GA, AL, TN, SC, NC, VA.\\n\\nJoin the Publix Architecture team to enable Publix’s digital transformation at the edge. This software engineer will be at the forefront of Publix’s adoption of new technologies and practices. You will join a team of architects and engineers developing our edge platform... centered around bringing a cloud native platform to facilitate modern business application development.\\nResponsibilities:\\n• Develop common services/components running at the edge\\n• Develop operation and management services/components to manage thousands of locations and applications\\n• Develop proof-of-concepts\\n• Learn new technologies with a focus on cloud native\\n• Develop unit tests and perform functional testing of solutions\\n• Develop technical documentation\\n• Work with application teams to adopt the edge platform',\n",
       "  'job_highlights': [{'title': 'Responsibilities',\n",
       "    'items': ['This software engineer will be at the forefront of Publix’s adoption of new technologies and practices',\n",
       "     'You will join a team of architects and engineers developing our edge platform centered around bringing a cloud native platform to facilitate modern business application development',\n",
       "     'Develop common services/components running at the edge',\n",
       "     'Develop operation and management services/components to manage thousands of locations and applications',\n",
       "     'Develop proof-of-concepts',\n",
       "     'Learn new technologies with a focus on cloud native',\n",
       "     'Develop unit tests and perform functional testing of solutions',\n",
       "     'Develop technical documentation',\n",
       "     'Work with application teams to adopt the edge platform']}],\n",
       "  'related_links': [{'link': 'http://www.publix.com/', 'text': 'publix.com'},\n",
       "   {'link': 'https://www.google.com/search?sca_esv=f057219ff9d50998&sca_upv=1&q=Publix&sa=X&ved=0ahUKEwjnvKuygdOCAxXzQjABHUueBR0QmJACCKYK',\n",
       "    'text': 'See web results for Publix'}],\n",
       "  'thumbnail': 'https://encrypted-tbn0.gstatic.com/images?q=tbn:ANd9GcSvdDeGY1IKvqB55Y5pulkgIEL0JguYnZ-62mSC&s=0',\n",
       "  'extensions': ['6 days ago', 'Full-time'],\n",
       "  'detected_extensions': {'posted_at': '6 days ago',\n",
       "   'schedule_type': 'Full-time'},\n",
       "  'job_id': 'eyJqb2JfdGl0bGUiOiJTciBTb2Z0d2FyZSBFbmdpbmVlciDigJMgRWRnZSBQbGF0Zm9ybSAtIFJFTU9URSIsImh0aWRvY2lkIjoiOHI1YlI1d2hpc25oZWh5Q0FBQUFBQT09IiwidXVsZSI6IncrQ0FJUUlDSUVVMkZ1SUVaeVlXNWphWE5qYnkxUFlXdHNZVzVrTFZOaGJpQktiM05sTEVOQkxFTmhiR2xtYjNKdWFXRXNWVzVwZEdWa0lGTjBZWFJsY3ciLCJmYyI6IkVzd0NDb3dDUVV4UGJuQlpWbGRWTTJkWE1HOVZaR2w2VEhkQ04wVmtiM0JOY0ZsSFIzUTBlamN0VlcxTVpHaExkV3RHYmw5MlZWaG9hRjl2WDBzNVowRkJSRFJoWVU0NVdGcFdVVTFZYVV0cmFra3RibUpYTFdWRU9XOHdkbWxpZUZSdU9VSTFha2hzUTFBNU1rbDNNVlJwTlRoRFYzQkVNRXRvWTNOaWRVbG1WSFZpV1U5UU5YaHdNR0ZUVEhCQ2JTMXdTR05oWWtSMGFXdFRZMFZ3UkU0M1QwNTJhbXMzWDJWNlMzQnhXRlIwV0hCMlNrbHNVRFl0VURWbFdsVk5RbkZvTkRnNGFtbHBhM2RuVm1WSk1HeENRVXhKTUZwR1ZFcHdTVU5VTWs5bmJrSjZlbEl5VTJKd2NUZHhlbTVVV1Y5VFdVNUlSSFZvYWtoR2VFZDVZVkpoTFVoM00yZE1hekV0T1hONVJXczJSaElYUTFsMFlscGhaVlZKWDA5R2QySnJVSGszZVZjMlFVVWFJa0ZLZDJzdE9HUjZXRVV4Y1dwdlMxZGZiRlJrZEZsUlgyZHFXbGh0VldveVNYYyIsImZjdiI6IjMiLCJmY19pZCI6ImZjXzMiLCJhcHBseV9saW5rIjp7InRpdGxlIjoiQXBwbHkgb24gUHVibGl4IEpvYnMgQW5kIENhcmVlcnMiLCJsaW5rIjoiaHR0cHM6Ly9qb2JzLnB1YmxpeC5jb20vam9iL2xha2VsYW5kL3NyLXNvZnR3YXJlLWVuZ2luZWVyLWVkZ2UtcGxhdGZvcm0tcmVtb3RlLzk0NC81NzI5NTA1OTI2ND91dG1fY2FtcGFpZ249Z29vZ2xlX2pvYnNfYXBwbHlcdTAwMjZ1dG1fc291cmNlPWdvb2dsZV9qb2JzX2FwcGx5XHUwMDI2dXRtX21lZGl1bT1vcmdhbmljIn19'}]"
      ]
     },
     "execution_count": 9,
     "metadata": {},
     "output_type": "execute_result"
    }
   ],
   "source": [
    "# Display a part of the response for demonstration\n",
    "job_data[\"jobs_results\"][\n",
    "    :2\n",
    "] if job_data and \"jobs_results\" in job_data else \"No data or invalid API key\""
   ]
  },
  {
   "cell_type": "code",
   "execution_count": 10,
   "metadata": {},
   "outputs": [],
   "source": [
    "import os\n",
    "import json\n",
    "\n",
    "# Other imports and functions remain the same\n",
    "\n",
    "# Function to save data as JSON\n",
    "def save_as_json(data, filename, directory='DATA'):\n",
    "    if not os.path.exists(directory):\n",
    "        os.makedirs(directory)\n",
    "    filepath = os.path.join(directory, filename)\n",
    "    with open(filepath, 'w') as file:\n",
    "        json.dump(data, file, indent=4)\n",
    "\n",
    "# Get job data"
   ]
  },
  {
   "cell_type": "code",
   "execution_count": 11,
   "metadata": {},
   "outputs": [],
   "source": [
    "# Save to JSON in the DATA directory\n",
    "if job_data:\n",
    "    save_as_json(job_data, 'job_data.json')\n",
    "else:\n",
    "    print('No data to save or invalid API key')"
   ]
  },
  {
   "cell_type": "code",
   "execution_count": null,
   "metadata": {},
   "outputs": [],
   "source": [
    "# Extracting and structuring data for CSV\n",
    "import pandas as pd\n",
    "\n",
    "def extract_job_info(job):\n",
    "    \"\"\"\n",
    "    Extracts information from a single job entry and returns it as a dictionary.\n",
    "    \"\"\"\n",
    "    return {\n",
    "        'Job Title': job.get('title', ''),\n",
    "        'Company Name': job.get('company_name', ''),\n",
    "        'Location': job.get('location', '').strip(),\n",
    "        'Description': job.get('description', ''),\n",
    "        'Salary': job.get('detected_extensions', {}).get('salary', ''),\n",
    "        'Job Type': job.get('detected_extensions', {}).get('schedule_type', ''),\n",
    "        'Date Posted': job.get('detected_extensions', {}).get('posted_at', ''),\n",
    "        'Benefits': ', '.join(job.get('extensions', [])),\n",
    "        'Application Link': job.get('apply_link', {}).get('link', ''),\n",
    "        'Related Links': ', '.join([link.get('link', '') for link in job.get('related_links', [])]),\n",
    "        'Job ID': job.get('job_id', '')\n",
    "    }\n",
    "\n",
    "# Create a DataFrame\n",
    "job_listings = [extract_job_info(job) for job in job_data.get('jobs_results', [])]\n",
    "df = pd.DataFrame(job_listings)\n",
    "\n",
    "# CSV file path\n",
    "csv_file_path = '/mnt/data/job_data.csv'\n",
    "\n",
    "# Save to CSV\n",
    "df.to_csv(csv_file_path, index=False)\n",
    "\n",
    "csv_file_path\n"
   ]
  }
 ],
 "metadata": {
  "kernelspec": {
   "display_name": "server-oZNGKARp-py3.10",
   "language": "python",
   "name": "python3"
  },
  "language_info": {
   "codemirror_mode": {
    "name": "ipython",
    "version": 3
   },
   "file_extension": ".py",
   "mimetype": "text/x-python",
   "name": "python",
   "nbconvert_exporter": "python",
   "pygments_lexer": "ipython3",
   "version": "3.10.12"
  }
 },
 "nbformat": 4,
 "nbformat_minor": 2
}
